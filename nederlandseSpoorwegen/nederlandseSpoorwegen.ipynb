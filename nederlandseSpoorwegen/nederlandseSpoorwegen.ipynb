{
 "cells": [
  {
   "cell_type": "markdown",
   "id": "a3e8a1f9-99d5-4a17-a74d-ec3ab23ff4d8",
   "metadata": {},
   "source": [
    "# __Netwerkanalyse Nederlands spoorwegennetwerk (NS; 2024)__"
   ]
  },
  {
   "cell_type": "markdown",
   "id": "00c4a4e6-4a36-4a2a-af69-272404fa06a9",
   "metadata": {},
   "source": [
    "<tekst>dddd"
   ]
  },
  {
   "cell_type": "code",
   "execution_count": 26,
   "id": "fe273a05-9511-4124-81c7-0156dca4ce8e",
   "metadata": {},
   "source": [
    "import networkx as nx\n",
    "import polars as pl\n",
    "import matplotlib.pyplot as plt\n",
    "import geopandas as gpd\n",
    "import os\n",
    "import statistics\n",
    "from geopandas import GeoDataFrame\n",
    "from matplotlib.patches import Patch\n",
    "\n",
    "from coordinaat import coordinaatstring_naar_exact\n",
    "from graaf import maak_stationsgraaf, voeg_verbindingen_toe, aantal_verbindingen_nodig_voor_complete_graaf\n",
    "from station import geef_hoofdstations, geef_inwoners_en_stations_provincies"
   ],
   "outputs": []
  },
  {
   "cell_type": "markdown",
   "id": "14ca63c2-ea0c-43c9-82ad-65d49599a134",
   "metadata": {},
   "source": [
    "### 1. Het inlezen van de dataverzameling"
   ]
  },
  {
   "cell_type": "code",
   "execution_count": 2,
   "id": "3fc93c25-e119-4ef3-b703-ef20ab8c9826",
   "metadata": {},
   "source": [
    "stations: pl.DataFrame = pl.read_csv(\"data/dataStationsStedenNederland.csv\", encoding=\"latin-1\")\n",
    "stations.head()"
   ],
   "outputs": []
  },
  {
   "cell_type": "markdown",
   "id": "53b01943-99c1-4cb4-805a-0916c91eb5ba",
   "metadata": {},
   "source": [
    "### 2. Het verrijken van de stationsdata"
   ]
  },
  {
   "cell_type": "code",
   "execution_count": 3,
   "id": "8eb5b88b-6f2f-421b-ae3f-4a862feff5fe",
   "metadata": {},
   "source": [
    "coordinaten_stations: dict[str, tuple[float, float]] = {\n",
    "    station: coordinaatstring_naar_exact(coordinaat) for station, coordinaat in zip(stations[\"station\"], stations[\"coordinaten\"])\n",
    "}"
   ],
   "outputs": []
  },
  {
   "cell_type": "code",
   "execution_count": 4,
   "id": "0df4d98f-28dd-4f47-86a1-336f216746bc",
   "metadata": {},
   "source": [
    "S: nx.DiGraph = maak_stationsgraaf(coordinaten_stations)\n",
    "S = voeg_verbindingen_toe(S, stations)"
   ],
   "outputs": []
  },
  {
   "cell_type": "code",
   "execution_count": 5,
   "id": "2c7e9361-448a-4eea-8123-7f13d05cfc84",
   "metadata": {},
   "source": [
    "HOOFDSTATIONS: set[str] = geef_hoofdstations(S)"
   ],
   "outputs": []
  },
  {
   "cell_type": "markdown",
   "id": "b316694c-1c86-46dd-937f-98214f378a15",
   "metadata": {},
   "source": [
    "### 3. Visualisatie Nederlandse spoorwegen (NS)\n",
    "\n",
    "Technische begrippen:\n",
    "- _knoop_: een entiteit in een graaf;\n",
    "- _graad_: het aantal verbindingen/buren van een knoop;\n",
    "- _bereik_: hoeveel andere knopen een knoop kan bereiken via haar verbindingen en buren;\n",
    "- _clustervormingscoëfficiënt_: de kans de de buren van een knoop ook onderling verbindingen hebben;\n",
    "- _dichtheid_: de ratio tussen het aantal bestaande en mogelijke verbindingen;\n",
    "- _subgraaf_: een kleinere graaf in een grotere graaf;\n",
    "- _egograaf_: een subgraaf van een specifieke knoop die louter de knoop zelf en haar buren bevat;\n",
    "- _kliek_: een subgraaf waarin iedere knoop een verbinding heeft met iedere andere knoop — behalve met zichzelf;\n",
    "- _complete graaf_: een graaf waarin iedere knoop in verbinding heeft met iedere andere — behalve met zichzelf: compleet = $\\frac{N \\cdot (N - 1)}{2}$\n",
    ";\n",
    "- _betweenneesscentrality_: de tussenliggenheid van een knoop op kortste paden tussen andere knopen;\n",
    "- _grootste-effectknoop_: de knoop die de meeste chaos zou veroorzaken, als die zou komen te ontvallen."
   ]
  },
  {
   "cell_type": "code",
   "execution_count": 6,
   "id": "72209628-6f04-4ace-bf15-315b245f0262",
   "metadata": {},
   "source": [
    "os.environ[\"SHAPE_RESTORE_SHX\"] = \"YES\"\n",
    "\n",
    "kaart_nederland: GeoDataFrame = gpd.read_file(\"data/NLD_adm0.shp\")\n",
    "\n",
    "figuur, as_ = plt.subplots(figsize=(30, 30))\n",
    "kaart_nederland.plot(ax=as_, color=\"lightgrey\")\n",
    "stationspositities: dict[str, tuple[float, float]] = nx.get_node_attributes(S, \"pos\")\n",
    "stationspositities = {station: (coordinaten[0], coordinaten[1]) for station, coordinaten in stationspositities.items()}\n",
    "\n",
    "stationskleuren: list[str] = [\"darkblue\" if (station in HOOFDSTATIONS) else \"red\" for station in S]\n",
    "stationsgrootten: list[int] = [90 if (station in HOOFDSTATIONS) else 50 for station in S]\n",
    "\n",
    "legendalabel_hoofdstations: Patch = Patch(color=\"darkblue\", label=\"Hoofdstation\")\n",
    "legendalabel_tussenstation: Patch = Patch(color=\"red\", label=\"Tussenstation\")\n",
    "\n",
    "nx.draw_networkx_nodes(S, stationspositities, node_size=stationsgrootten, node_color=stationskleuren, ax=as_)\n",
    "nx.draw_networkx_edges(S, stationspositities, ax=as_)\n",
    "nx.draw_networkx_labels(S, stationspositities, font_size=10, font_color=\"black\", ax=as_)\n",
    "\n",
    "plt.title(\"Nederlandse spoorwegen (NS) — stations en verbindingen\\n\")\n",
    "plt.xlabel(\"Lengtegraad\")\n",
    "plt.ylabel(\"Breedtegraad\")\n",
    "plt.show()"
   ],
   "outputs": []
  },
  {
   "cell_type": "markdown",
   "id": "04a6a03a-f0e1-4008-8ae4-32720627b93f",
   "metadata": {},
   "source": [
    "### 4. Beschrijvende waarden Nederlands spoorwegennetwerk\n"
   ]
  },
  {
   "cell_type": "code",
   "execution_count": 7,
   "id": "d22fa903-31bd-43d0-bda8-8c502fd06adf",
   "metadata": {},
   "source": [
    "BUITENLANDSE_STATIONS: set[str] = {\n",
    "    \"Herzogenrath\", \"Visé\", \"Antwerpen-Centraal\", \"Essen\", \"Emmerich-Elten\", \"Gronau\",\n",
    "    \"Bad Bentheim\", \"Weener\", \"Breyell\", \"Noorderkempen\", \"Mönchengladbach\"\n",
    "}\n",
    "\n",
    "aantal_inwoners_per_provincie: dict[str, int] = {\n",
    "    \"Drenthe\": 504_116, \"Flevoland\": 450_920, \"Friesland\": 661_956, \"Gelderland\": 2_149_057,\n",
    "    \"Groningen\": 601_510, \"Limburg\": 1_133_174, \"Noord-Brabant\": 2_644_872, \"Noord-Holland\": 2_980_494,\n",
    "    \"Overijssel\": 1_189_079, \"Utrecht\": 1_400_187, \"Zeeland\": 391_657, \"Zuid-Holland\":\t3_840_662\t\n",
    "}\n",
    "\n",
    "aantal_inwoners_en_stations_per_provincie: dict[str, list[int | set[str]]] = geef_inwoners_en_stations_provincies(stations, aantal_inwoners_per_provincie)"
   ],
   "outputs": []
  },
  {
   "cell_type": "code",
   "execution_count": 23,
   "id": "9bca62f1-f538-4ccd-9467-7dec64181153",
   "metadata": {},
   "source": [
    "bereiken_stations: dict[str, int] = {station1: sum(1 for station2 in S if nx.has_path(S, station1, station2)) for station1 in S}\n",
    "\n",
    "minimumbereik: int = min(bereiken_stations.values())\n",
    "maximumbereik: int = max(bereiken_stations.values())\n",
    "gemiddelde_bereik_station: float = statistics.mean(list(bereiken_stations.values()))\n",
    "\n",
    "uitgraden_stations: list[int] = [uitgraad for station, uitgraad in S.out_degree()]\n",
    "ingraden_stations: list[int] = [ingraad for station, ingraad in S.in_degree()]\n",
    "gemiddelde_uitgraad_stations: float = statistics.mean(uitgraden_stations)\n",
    "gemiddelde_ingraad_stations: float = statistics.mean(ingraden_stations)\n",
    "\n",
    "TUSSENSTATIONS: set[str] = {station for station in S if not (station in HOOFDSTATIONS)}\n",
    "nederlandsche_stations: set[str] = {station for station in S if not (station in BUITENLANDSE_STATIONS)}\n",
    "\n",
    "aantallen_stations_per_provincie: list = [len(stationsgegevens[1]) for stationsgegevens in aantal_inwoners_en_stations_per_provincie.values()]\n",
    "aantallen_hoofdstations_per_provincie: list = [\n",
    "    len({station for station in stationsgegevens[1] if station in HOOFDSTATIONS})\n",
    "    for stationsgegevens in aantal_inwoners_en_stations_per_provincie.values()\n",
    "]\n",
    "aantallen_tussenstations_per_provincie: list = [\n",
    "    len({station for station in stationsgegevens[1] if station in TUSSENSTATIONS})\n",
    "    for stationsgegevens in aantal_inwoners_en_stations_per_provincie.values()\n",
    "]\n",
    "\n",
    "aantal_symmetrische_verbingen: int = sum(1 for station1, station2 in S.edges() if S.has_edge(station2, station1))\n",
    "stations_met_buitenlandse_verbindingen: set[str] = set()\n",
    "\n",
    "for station in S:\n",
    "    for buitenlands_station in BUITENLANDSE_STATIONS:\n",
    "        if S.has_edge(station, buitenlands_station):\n",
    "            stations_met_buitenlandse_verbindingen.add(station)\n",
    "\n",
    "print(f\"GRAAFGEGEVENS\\n{'-' * 78}\")\n",
    "print(f\"- aantal stations: {len(S)};\")\n",
    "print(f\"- aantal Nederlandse stations: {len(nederlandsche_stations)};\")\n",
    "print(f\"- aantal buitenlandse (Duitse en Belgische) stations: {len(BUITENLANDSE_STATIONS)};\")\n",
    "print(f\"- aantal hoofdstations: {len(HOOFDSTATIONS)};\")\n",
    "print(f\"- aantal tussenstations: {len(TUSSENSTATIONS)};\")\n",
    "print(f\"- gemiddeld aantal stations per provincie: {statistics.mean(aantallen_stations_per_provincie)};\")\n",
    "print(f\"- gemiddeld aantal hoofdstations per provincie: {round(statistics.mean(aantallen_hoofdstations_per_provincie), 2)};\")\n",
    "print(f\"- gemiddeld aantal tussenstations per provincie: {round(statistics.mean(aantallen_tussenstations_per_provincie), 2)};\\n\")\n",
    "\n",
    "print(f\"- aantal verbindingen tussen stations: {len(S.edges())};\")\n",
    "print(f\"- aantal symmetrische verbindingen tussen stations: {aantal_symmetrische_verbingen};\")\n",
    "print(f\"- aantal stations met (directe) buitenlandse verbindingen: {len(stations_met_buitenlandse_verbindingen)};\")\n",
    "print(f\"- aantal verbindingen vereist om graaf compleet te maken: {aantal_verbindingen_nodig_voor_complete_graaf(S)};\\n\")\n",
    "\n",
    "print(f\"- gemiddelde uitgraad stations: {round(gemiddelde_uitgraad_stations, 3)};\")\n",
    "print(f\"- gemiddelde ingraad stations: {round(gemiddelde_ingraad_stations, 3)};\")\n",
    "print(f\"- minimumingraad stations: {min(ingraden_stations)};\")\n",
    "print(f\"- maximumingraad stations: {max(ingraden_stations)};\")\n",
    "print(f\"- minimumuitgraad stations: {min(uitgraden_stations)};\")\n",
    "print(f\"- minimumuitgraad stations: {max(uitgraden_stations)};\\n\")\n",
    "\n",
    "print(f\"- minimumbereik stations: {minimumbereik};\")\n",
    "print(f\"- maximumbereik stations: {maximumbereik};\")\n",
    "print(f\"- gemiddeld bereik stations: {round(gemiddelde_bereik_station, 3)};\")\n",
    "print(f\"- ieder Nederlands station kan ieder ander Nederlands station bereiken: {list(bereiken_stations.values()).count(len(nederlandsche_stations)) == len(S)};\\n\")\n",
    "\n",
    "print(f\"- clustervormingscoëfficiënt: {round(nx.average_clustering(S), 3)};\")\n",
    "print(f\"- dichtheid: {round(nx.density(S), 3)};\")\n",
    "print(f\"- diameter: {nx.diameter(S) if nx.is_strongly_connected(S) else \"niet sterk verbonden\"};\")\n",
    "print(f\"- radius: {nx.radius(S) if nx.is_strongly_connected(S) else \"niet sterk verbonden\"}.\")"
   ],
   "outputs": []
  },
  {
   "cell_type": "code",
   "execution_count": null,
   "id": "5a90db20-8336-470e-b783-21ae12c00ca9",
   "metadata": {},
   "source": [],
   "outputs": []
  },
  {
   "cell_type": "code",
   "execution_count": null,
   "id": "7181421e-9204-4229-bc6b-b115dfaad1c2",
   "metadata": {},
   "source": [],
   "outputs": []
  }
 ],
 "metadata": {
  "kernelspec": {
   "display_name": "Python 3 (ipykernel)",
   "language": "python",
   "name": "python3"
  },
  "language_info": {
   "codemirror_mode": {
    "name": "ipython",
    "version": 3
   },
   "file_extension": ".py",
   "mimetype": "text/x-python",
   "name": "python",
   "nbconvert_exporter": "python",
   "pygments_lexer": "ipython3",
   "version": "3.12.2"
  }
 },
 "nbformat": 4,
 "nbformat_minor": 5
}
